{
  "nbformat": 4,
  "nbformat_minor": 0,
  "metadata": {
    "colab": {
      "provenance": [],
      "collapsed_sections": [],
      "include_colab_link": true
    },
    "kernelspec": {
      "name": "python3",
      "display_name": "Python 3"
    },
    "accelerator": "GPU"
  },
  "cells": [
    {
      "cell_type": "markdown",
      "metadata": {
        "id": "view-in-github",
        "colab_type": "text"
      },
      "source": [
        "<a href=\"https://colab.research.google.com/github/marparven1/MachineLearning_Classification/blob/main/Fraud_Detection_NN_Loyola_2022.ipynb\" target=\"_parent\"><img src=\"https://colab.research.google.com/assets/colab-badge.svg\" alt=\"Open In Colab\"/></a>"
      ]
    },
    {
      "cell_type": "markdown",
      "source": [
        "# Ejercicio: Detección de fruade\n",
        "Este ejercicio tiene por objetivo poner en práctica los conceptos las técnicas de aprendizaje supervisado y en particular clasificación. El ejercicio se divide en las siguientes secciones: \n",
        "1. exploración de los datos mediante técnicas estadísticas clásicas, \n",
        "2. selección de atributos, \n",
        "3. entrenamiento de diferentes clasificadores,\n",
        "4. evaluación."
      ],
      "metadata": {
        "id": "2Y0CUn60jZex"
      }
    },
    {
      "cell_type": "markdown",
      "metadata": {
        "id": "XdA5nF8JvOQ0"
      },
      "source": [
        "# Librerías:\n",
        "Importamos todas las librerías que serán utilizadas para el ejercicio.\n",
        "\n",
        "\n"
      ]
    },
    {
      "cell_type": "code",
      "metadata": {
        "id": "W3f05yxKmKaS",
        "colab": {
          "base_uri": "https://localhost:8080/"
        },
        "outputId": "c631187e-19f0-48ca-e3cb-8bb50937ee20"
      },
      "source": [
        "# Import libs\n",
        "import pandas as pd\n",
        "import numpy as np\n",
        "import matplotlib.pyplot as plt\n",
        "import seaborn as sns\n",
        "!pip install --upgrade --no-cache-dir gdown"
      ],
      "execution_count": null,
      "outputs": [
        {
          "output_type": "stream",
          "name": "stdout",
          "text": [
            "Looking in indexes: https://pypi.org/simple, https://us-python.pkg.dev/colab-wheels/public/simple/\n",
            "Requirement already satisfied: gdown in /usr/local/lib/python3.7/dist-packages (4.4.0)\n",
            "Collecting gdown\n",
            "  Downloading gdown-4.5.3.tar.gz (14 kB)\n",
            "  Installing build dependencies ... \u001b[?25l\u001b[?25hdone\n",
            "  Getting requirements to build wheel ... \u001b[?25l\u001b[?25hdone\n",
            "    Preparing wheel metadata ... \u001b[?25l\u001b[?25hdone\n",
            "Requirement already satisfied: tqdm in /usr/local/lib/python3.7/dist-packages (from gdown) (4.64.1)\n",
            "Requirement already satisfied: filelock in /usr/local/lib/python3.7/dist-packages (from gdown) (3.8.0)\n",
            "Requirement already satisfied: six in /usr/local/lib/python3.7/dist-packages (from gdown) (1.15.0)\n",
            "Requirement already satisfied: requests[socks] in /usr/local/lib/python3.7/dist-packages (from gdown) (2.23.0)\n",
            "Requirement already satisfied: beautifulsoup4 in /usr/local/lib/python3.7/dist-packages (from gdown) (4.6.3)\n",
            "Requirement already satisfied: idna<3,>=2.5 in /usr/local/lib/python3.7/dist-packages (from requests[socks]->gdown) (2.10)\n",
            "Requirement already satisfied: chardet<4,>=3.0.2 in /usr/local/lib/python3.7/dist-packages (from requests[socks]->gdown) (3.0.4)\n",
            "Requirement already satisfied: certifi>=2017.4.17 in /usr/local/lib/python3.7/dist-packages (from requests[socks]->gdown) (2022.9.24)\n",
            "Requirement already satisfied: urllib3!=1.25.0,!=1.25.1,<1.26,>=1.21.1 in /usr/local/lib/python3.7/dist-packages (from requests[socks]->gdown) (1.24.3)\n",
            "Requirement already satisfied: PySocks!=1.5.7,>=1.5.6 in /usr/local/lib/python3.7/dist-packages (from requests[socks]->gdown) (1.7.1)\n",
            "Building wheels for collected packages: gdown\n",
            "  Building wheel for gdown (PEP 517) ... \u001b[?25l\u001b[?25hdone\n",
            "  Created wheel for gdown: filename=gdown-4.5.3-py3-none-any.whl size=14841 sha256=5b3667eb301f647f04062066dd99343785ca86aaf491418bd1d472516a395999\n",
            "  Stored in directory: /tmp/pip-ephem-wheel-cache-l_6nzvlq/wheels/94/8d/0b/bdcd83555c3555f91a33f6c2384428d9f163c7d75ab0d272b4\n",
            "Successfully built gdown\n",
            "Installing collected packages: gdown\n",
            "  Attempting uninstall: gdown\n",
            "    Found existing installation: gdown 4.4.0\n",
            "    Uninstalling gdown-4.4.0:\n",
            "      Successfully uninstalled gdown-4.4.0\n",
            "Successfully installed gdown-4.5.3\n"
          ]
        }
      ]
    },
    {
      "cell_type": "markdown",
      "metadata": {
        "id": "Kc_0rl7zvV8t"
      },
      "source": [
        "# Datos:\n",
        "Descargamos los datos desde google drive a la instancia de google colab."
      ]
    },
    {
      "cell_type": "code",
      "source": [
        "!gdown --id 1bWFuwCD_elqw3_jzR1Xob1YMnu-c7HcF"
      ],
      "metadata": {
        "colab": {
          "base_uri": "https://localhost:8080/"
        },
        "id": "2AYoot6pBJQl",
        "outputId": "03a6596f-f458-499a-d429-5919bb417ea6"
      },
      "execution_count": null,
      "outputs": [
        {
          "output_type": "stream",
          "name": "stdout",
          "text": [
            "/usr/local/lib/python3.7/dist-packages/gdown/cli.py:125: FutureWarning: Option `--id` was deprecated in version 4.3.1 and will be removed in 5.0. You don't need to pass it anymore to use a file ID.\n",
            "  category=FutureWarning,\n",
            "Downloading...\n",
            "From: https://drive.google.com/uc?id=1bWFuwCD_elqw3_jzR1Xob1YMnu-c7HcF\n",
            "To: /content/creditcard.csv\n",
            "100% 150M/150M [00:02<00:00, 62.2MB/s]\n"
          ]
        }
      ]
    },
    {
      "cell_type": "code",
      "metadata": {
        "id": "i-eiw-HRmt-g"
      },
      "source": [
        "# Ref.: https://www.kaggle.com/isaikumar/creditcardfraud/version/1\n",
        "# Data frame with credit card data\n",
        "\n",
        "# Leemos el archivo CSV\n",
        "df = pd.read_csv( 'creditcard.csv' )"
      ],
      "execution_count": null,
      "outputs": []
    },
    {
      "cell_type": "markdown",
      "metadata": {
        "id": "mFNEal38vlV2"
      },
      "source": [
        "# 1. Análisis de los datos\n",
        "\n",
        "1.   Visualizamos la información del dataframe de datos.\n",
        "2.   Calculamos la correlación entre cada una de las variables y la clase. Cuanto más grande el valor de correlación en valor absoluto mayor es la correlación estadística entre la variable y la clase Class que contiene si la transacción es fraudulenta o legítima.\n"
      ]
    },
    {
      "cell_type": "code",
      "metadata": {
        "id": "wFZwJKCcn6fs",
        "colab": {
          "base_uri": "https://localhost:8080/"
        },
        "outputId": "e9e535e6-4bb1-4a79-98da-d8553d54220b"
      },
      "source": [
        "# 1\n",
        "# Details on data\n",
        "print(df.shape)\n",
        "print(df.columns)\n",
        "\n",
        "# 2\n",
        "# Compute correlation of features with respect to Class\n",
        "# By default uses Pearson correlation that estimates linear correlation: \n",
        "# +1 or -1 linearly correlated, 0 non linear correlated\n",
        "df.corr()[\"Class\"].sort_values(key=abs,ascending=False)"
      ],
      "execution_count": null,
      "outputs": [
        {
          "output_type": "stream",
          "name": "stdout",
          "text": [
            "(284807, 31)\n",
            "Index(['Time', 'V1', 'V2', 'V3', 'V4', 'V5', 'V6', 'V7', 'V8', 'V9', 'V10',\n",
            "       'V11', 'V12', 'V13', 'V14', 'V15', 'V16', 'V17', 'V18', 'V19', 'V20',\n",
            "       'V21', 'V22', 'V23', 'V24', 'V25', 'V26', 'V27', 'V28', 'Amount',\n",
            "       'Class'],\n",
            "      dtype='object')\n"
          ]
        },
        {
          "output_type": "execute_result",
          "data": {
            "text/plain": [
              "Class     1.000000\n",
              "V17      -0.326481\n",
              "V14      -0.302544\n",
              "V12      -0.260593\n",
              "V10      -0.216883\n",
              "V16      -0.196539\n",
              "V3       -0.192961\n",
              "V7       -0.187257\n",
              "V11       0.154876\n",
              "V4        0.133447\n",
              "V18      -0.111485\n",
              "V1       -0.101347\n",
              "V9       -0.097733\n",
              "V5       -0.094974\n",
              "V2        0.091289\n",
              "V6       -0.043643\n",
              "V21       0.040413\n",
              "V19       0.034783\n",
              "V20       0.020090\n",
              "V8        0.019875\n",
              "V27       0.017580\n",
              "Time     -0.012323\n",
              "V28       0.009536\n",
              "V24      -0.007221\n",
              "Amount    0.005632\n",
              "V13      -0.004570\n",
              "V26       0.004455\n",
              "V15      -0.004223\n",
              "V25       0.003308\n",
              "V23      -0.002685\n",
              "V22       0.000805\n",
              "Name: Class, dtype: float64"
            ]
          },
          "metadata": {},
          "execution_count": 4
        }
      ]
    },
    {
      "cell_type": "markdown",
      "metadata": {
        "id": "9ccQZwfav2jY"
      },
      "source": [
        "# 2. Selección de atributos\n",
        "1. Seleccionamos los atributos (características) a ser utilizadas. Dentro de los atributos $X$ no debe estar la clase $Class$.\n",
        "2. Verificamos la cantidad de muestras de cada clase."
      ]
    },
    {
      "cell_type": "code",
      "metadata": {
        "id": "OK_BZmeErAzQ",
        "colab": {
          "base_uri": "https://localhost:8080/"
        },
        "outputId": "ff75b537-3c29-465b-cce9-ebef31b1fb0d"
      },
      "source": [
        "# 1\n",
        "# Extract features and labels\n",
        "\n",
        "#\n",
        "# Obs. Modify the following code to select set of features\n",
        "#\n",
        "# The following line allows to select some variables to be used\n",
        "X = df.loc[:,['V2','Amount']]\n",
        "\n",
        "# Class is the target to predict (classify)\n",
        "y = df.Class\n",
        "\n",
        "# 2\n",
        "# Number of samples per class\n",
        "unique, counts = np.unique(y, return_counts=True)\n",
        "for i in range(0,len(unique)):\n",
        "  print('Class %i: Samples %i' % (unique[i], counts[i]) )\n",
        "\n",
        "# Number of attributes\n",
        "print('Number of attributes: %i' % (X.shape)[1])"
      ],
      "execution_count": null,
      "outputs": [
        {
          "output_type": "stream",
          "name": "stdout",
          "text": [
            "Class 0: Samples 284315\n",
            "Class 1: Samples 492\n",
            "Number of attributes: 2\n"
          ]
        }
      ]
    },
    {
      "cell_type": "markdown",
      "metadata": {
        "id": "o929j70xwV0f"
      },
      "source": [
        "# 3. Entrenamiento del clasificador\n",
        "\n",
        "1. El conjunto de datos se separa en entrenamiento y test.\n",
        "2. Se selecciona y entrena un clasificador.\n",
        "3. Métricas de performance\n",
        "\n"
      ]
    },
    {
      "cell_type": "code",
      "metadata": {
        "id": "546_qM25KkSJ",
        "colab": {
          "base_uri": "https://localhost:8080/"
        },
        "outputId": "f4e670a5-7be4-4f23-ffa5-c90b42bf2d41"
      },
      "source": [
        "# Classifier\n",
        "from sklearn.metrics import confusion_matrix\n",
        "from sklearn.model_selection import train_test_split\n",
        "from sklearn.naive_bayes import GaussianNB\n",
        "from sklearn.neighbors import KNeighborsClassifier\n",
        "from sklearn.linear_model import LogisticRegression\n",
        "from sklearn.tree import DecisionTreeClassifier\n",
        "\n",
        "# 1\n",
        "# Split train and test \n",
        "# stratify=y means the same % of classes is present in train and test\n",
        "X_train, X_test, y_train, y_test = train_test_split(X, y, test_size=0.5, random_state=0, stratify=y)\n",
        "\n",
        "# 2\n",
        "#\n",
        "# Selection of classifier\n",
        "#\n",
        "clf = KNeighborsClassifier(n_neighbors=5)\n",
        "#clf = DecisionTreeClassifier()\n",
        "#clf = LogisticRegression(solver='lbfgs',max_iter=500)\n",
        "#clf = GaussianNB()\n",
        "\n",
        "# Train classifier\n",
        "clf.fit(X_train,y_train)\n",
        "\n",
        "# Opcional: Sirve para visualizar las probabilidades a \n",
        "# Priors GuassianNB\n",
        "#print( clf.class_prior_ )\n",
        "\n",
        "# Opcional: Visualización de los coeficientes de regresión logística.\n",
        "# Coefs Logistic Regression\n",
        "# print( clf.coef_ )"
      ],
      "execution_count": null,
      "outputs": [
        {
          "output_type": "execute_result",
          "data": {
            "text/plain": [
              "KNeighborsClassifier()"
            ]
          },
          "metadata": {},
          "execution_count": 7
        }
      ]
    },
    {
      "cell_type": "markdown",
      "source": [
        "# 4. Evaluación"
      ],
      "metadata": {
        "id": "711Fe_D8mZQ7"
      }
    },
    {
      "cell_type": "code",
      "source": [
        "# 3\n",
        "# Confusion matrix\n",
        "y_pred = clf.predict(X_test)\n",
        "cm = confusion_matrix(y_test, y_pred)\n",
        "\n",
        "print(' Confusion matrix ------------------')\n",
        "print(cm)\n",
        "\n",
        "sum_diag = sum(cm[i][i] for i in range(2))\n",
        "sum_all = sum(sum(cm))\n",
        "\n",
        "print('\\n % Corr ----------------------------')\n",
        "print( sum_diag/sum_all*100 )\n",
        "\n",
        "# Classification report\n",
        "from sklearn.metrics import classification_report\n",
        "target_names = ['1', '0']\n",
        "\n",
        "print('\\n Classification report ------------------')\n",
        "report = classification_report(y_test, y_pred, target_names=target_names,output_dict=True)\n",
        "print('Class 0 (Fraud) %s: ' % report['0'])\n",
        "print('Class 1 (Valid) %s: ' % report['1'])\n",
        "\n",
        "# Amount of fraud detected\n",
        "a = X_test.Amount\n",
        "# TP \n",
        "ind = (y_pred == 1) & (y_test == 1)\n",
        "# Amount for TP\n",
        "amount_detected = np.sum( a[ ind ] ) \n",
        "# Total amount of fraud\n",
        "ind = (y_test == 1)\n",
        "amount_total = np.sum( a[ ind ] ) \n",
        "\n",
        "print('\\n Amount ------------------ \\n Detected = %f, Total = %f, Percentage = %f' % (amount_detected, amount_total, (amount_detected/amount_total)*100))"
      ],
      "metadata": {
        "colab": {
          "base_uri": "https://localhost:8080/"
        },
        "id": "7RTbWpysmbt9",
        "outputId": "16ebf01c-8e81-4b2e-c4cb-a66f020f8806"
      },
      "execution_count": null,
      "outputs": [
        {
          "output_type": "stream",
          "name": "stdout",
          "text": [
            " Confusion matrix ------------------\n",
            "[[142149      9]\n",
            " [   222     24]]\n",
            "\n",
            " % Corr ----------------------------\n",
            "99.83778545546474\n",
            "\n",
            " Classification report ------------------\n",
            "Class 0 (Fraud) {'precision': 0.7272727272727273, 'recall': 0.0975609756097561, 'f1-score': 0.17204301075268819, 'support': 246}: \n",
            "Class 1 (Valid) {'precision': 0.9984406936805951, 'recall': 0.9999366901616511, 'f1-score': 0.9991881319654587, 'support': 142158}: \n",
            "\n",
            " Amount ------------------ \n",
            " Detected = 1413.870000, Total = 30229.360000, Percentage = 4.677142\n"
          ]
        }
      ]
    },
    {
      "cell_type": "markdown",
      "metadata": {
        "id": "BN0t9c7uMU_s"
      },
      "source": [
        "# Ejercicio\n",
        "\n",
        "El objetivo del ejercicio es comparar diferentes clasificadores para el problema de detección de fraude. \n",
        "\n",
        "Para cada clasificador se deberán evaluar los indicadores: FN, FP, precision, recall, % de monto de fraude detectado. Se sugiere visualizar las matrices de confusión para poder evaluar los diferentes clasificadores en conjunto con los demás indicadores mencionados antes.\n",
        "\n",
        "## Clasificadores\n",
        "1. Vecinos más cercanos\n",
        "2. Decision Trees\n",
        "\n",
        "\n"
      ]
    }
  ]
}